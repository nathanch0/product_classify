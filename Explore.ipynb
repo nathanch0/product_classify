{
 "cells": [
  {
   "cell_type": "code",
   "execution_count": 1,
   "metadata": {
    "collapsed": true
   },
   "outputs": [],
   "source": [
    "import os\n",
    "import numpy as np\n",
    "import pandas as pd\n",
    "import requests\n",
    "import pathlib\n",
    "import shutil"
   ]
  },
  {
   "cell_type": "code",
   "execution_count": 2,
   "metadata": {
    "collapsed": true
   },
   "outputs": [],
   "source": [
    "data = pd.read_excel('data/training_data.xlsx')\n",
    "categories = pd.read_excel('data/categories.xlsx', header=None)"
   ]
  },
  {
   "cell_type": "code",
   "execution_count": 3,
   "metadata": {
    "scrolled": true
   },
   "outputs": [
    {
     "data": {
      "text/html": [
       "<div>\n",
       "<style>\n",
       "    .dataframe thead tr:only-child th {\n",
       "        text-align: right;\n",
       "    }\n",
       "\n",
       "    .dataframe thead th {\n",
       "        text-align: left;\n",
       "    }\n",
       "\n",
       "    .dataframe tbody tr th {\n",
       "        vertical-align: top;\n",
       "    }\n",
       "</style>\n",
       "<table border=\"1\" class=\"dataframe\">\n",
       "  <thead>\n",
       "    <tr style=\"text-align: right;\">\n",
       "      <th></th>\n",
       "      <th>ASIN</th>\n",
       "      <th>CategoryName</th>\n",
       "      <th>BrandName</th>\n",
       "      <th>Title</th>\n",
       "      <th>ImageUrl</th>\n",
       "    </tr>\n",
       "  </thead>\n",
       "  <tbody>\n",
       "    <tr>\n",
       "      <th>0</th>\n",
       "      <td>B014FCC4NO</td>\n",
       "      <td>Headphones</td>\n",
       "      <td>01 Audio</td>\n",
       "      <td>Bluetooth Headphones, Wireless Earbuds Earphon...</td>\n",
       "      <td>http://ecx.images-amazon.com/images/I/31KpP1yO...</td>\n",
       "    </tr>\n",
       "    <tr>\n",
       "      <th>1</th>\n",
       "      <td>B00RE20CVO</td>\n",
       "      <td>Cables</td>\n",
       "      <td>1byone</td>\n",
       "      <td>1Byone Lightning to USB Cable 3.28ft (1M) for...</td>\n",
       "      <td>http://ecx.images-amazon.com/images/I/31cldYZD...</td>\n",
       "    </tr>\n",
       "    <tr>\n",
       "      <th>2</th>\n",
       "      <td>B00HEZV6AC</td>\n",
       "      <td>Security &amp; Surveillance</td>\n",
       "      <td>1byone</td>\n",
       "      <td>1byone? 7 Inch Colorful LCD Screen Video Doorb...</td>\n",
       "      <td>http://ecx.images-amazon.com/images/I/41by3Sjc...</td>\n",
       "    </tr>\n",
       "    <tr>\n",
       "      <th>3</th>\n",
       "      <td>B00ZWOU5R2</td>\n",
       "      <td>Streaming Media</td>\n",
       "      <td>1byone</td>\n",
       "      <td>1byone 5GHz Wireless HDMI Streaming Media Play...</td>\n",
       "      <td>https://images-na.ssl-images-amazon.com/images...</td>\n",
       "    </tr>\n",
       "    <tr>\n",
       "      <th>4</th>\n",
       "      <td>B00RFLXE0A</td>\n",
       "      <td>Television Accessories</td>\n",
       "      <td>1byone</td>\n",
       "      <td>1byone Shiny Antenna Super Thin Amplified HDTV...</td>\n",
       "      <td>http://ecx.images-amazon.com/images/I/314oPMta...</td>\n",
       "    </tr>\n",
       "  </tbody>\n",
       "</table>\n",
       "</div>"
      ],
      "text/plain": [
       "         ASIN             CategoryName BrandName  \\\n",
       "0  B014FCC4NO               Headphones  01 Audio   \n",
       "1  B00RE20CVO                   Cables    1byone   \n",
       "2  B00HEZV6AC  Security & Surveillance    1byone   \n",
       "3  B00ZWOU5R2          Streaming Media    1byone   \n",
       "4  B00RFLXE0A   Television Accessories    1byone   \n",
       "\n",
       "                                               Title  \\\n",
       "0  Bluetooth Headphones, Wireless Earbuds Earphon...   \n",
       "1   1Byone Lightning to USB Cable 3.28ft (1M) for...   \n",
       "2  1byone? 7 Inch Colorful LCD Screen Video Doorb...   \n",
       "3  1byone 5GHz Wireless HDMI Streaming Media Play...   \n",
       "4  1byone Shiny Antenna Super Thin Amplified HDTV...   \n",
       "\n",
       "                                            ImageUrl  \n",
       "0  http://ecx.images-amazon.com/images/I/31KpP1yO...  \n",
       "1  http://ecx.images-amazon.com/images/I/31cldYZD...  \n",
       "2  http://ecx.images-amazon.com/images/I/41by3Sjc...  \n",
       "3  https://images-na.ssl-images-amazon.com/images...  \n",
       "4  http://ecx.images-amazon.com/images/I/314oPMta...  "
      ]
     },
     "execution_count": 3,
     "metadata": {},
     "output_type": "execute_result"
    }
   ],
   "source": [
    "data.head()"
   ]
  },
  {
   "cell_type": "code",
   "execution_count": 4,
   "metadata": {},
   "outputs": [
    {
     "data": {
      "text/html": [
       "<div>\n",
       "<style>\n",
       "    .dataframe thead tr:only-child th {\n",
       "        text-align: right;\n",
       "    }\n",
       "\n",
       "    .dataframe thead th {\n",
       "        text-align: left;\n",
       "    }\n",
       "\n",
       "    .dataframe tbody tr th {\n",
       "        vertical-align: top;\n",
       "    }\n",
       "</style>\n",
       "<table border=\"1\" class=\"dataframe\">\n",
       "  <thead>\n",
       "    <tr style=\"text-align: right;\">\n",
       "      <th></th>\n",
       "      <th>0</th>\n",
       "    </tr>\n",
       "  </thead>\n",
       "  <tbody>\n",
       "    <tr>\n",
       "      <th>0</th>\n",
       "      <td>Headphones</td>\n",
       "    </tr>\n",
       "    <tr>\n",
       "      <th>1</th>\n",
       "      <td>Cables</td>\n",
       "    </tr>\n",
       "    <tr>\n",
       "      <th>2</th>\n",
       "      <td>Security &amp; Surveillance</td>\n",
       "    </tr>\n",
       "    <tr>\n",
       "      <th>3</th>\n",
       "      <td>Streaming Media</td>\n",
       "    </tr>\n",
       "    <tr>\n",
       "      <th>4</th>\n",
       "      <td>Television Accessories</td>\n",
       "    </tr>\n",
       "  </tbody>\n",
       "</table>\n",
       "</div>"
      ],
      "text/plain": [
       "                         0\n",
       "0               Headphones\n",
       "1                   Cables\n",
       "2  Security & Surveillance\n",
       "3          Streaming Media\n",
       "4   Television Accessories"
      ]
     },
     "execution_count": 4,
     "metadata": {},
     "output_type": "execute_result"
    }
   ],
   "source": [
    "categories.head()"
   ]
  },
  {
   "cell_type": "code",
   "execution_count": 5,
   "metadata": {},
   "outputs": [
    {
     "name": "stdout",
     "output_type": "stream",
     "text": [
      "<class 'pandas.core.frame.DataFrame'>\n",
      "RangeIndex: 63 entries, 0 to 62\n",
      "Data columns (total 1 columns):\n",
      "0    63 non-null object\n",
      "dtypes: object(1)\n",
      "memory usage: 584.0+ bytes\n"
     ]
    }
   ],
   "source": [
    "categories.info()"
   ]
  },
  {
   "cell_type": "code",
   "execution_count": 6,
   "metadata": {},
   "outputs": [
    {
     "name": "stdout",
     "output_type": "stream",
     "text": [
      "<class 'pandas.core.frame.DataFrame'>\n",
      "RangeIndex: 6034 entries, 0 to 6033\n",
      "Data columns (total 5 columns):\n",
      "ASIN            6034 non-null object\n",
      "CategoryName    6034 non-null object\n",
      "BrandName       6034 non-null object\n",
      "Title           6034 non-null object\n",
      "ImageUrl        6034 non-null object\n",
      "dtypes: object(5)\n",
      "memory usage: 235.8+ KB\n"
     ]
    }
   ],
   "source": [
    "data.info()"
   ]
  },
  {
   "cell_type": "code",
   "execution_count": 7,
   "metadata": {},
   "outputs": [
    {
     "data": {
      "text/plain": [
       "1480"
      ]
     },
     "execution_count": 7,
     "metadata": {},
     "output_type": "execute_result"
    }
   ],
   "source": [
    "len(data.BrandName.unique())"
   ]
  },
  {
   "cell_type": "code",
   "execution_count": 8,
   "metadata": {},
   "outputs": [
    {
     "data": {
      "text/plain": [
       "63"
      ]
     },
     "execution_count": 8,
     "metadata": {},
     "output_type": "execute_result"
    }
   ],
   "source": [
    "len(data.CategoryName.unique())"
   ]
  },
  {
   "cell_type": "code",
   "execution_count": 9,
   "metadata": {},
   "outputs": [
    {
     "data": {
      "text/plain": [
       "6031"
      ]
     },
     "execution_count": 9,
     "metadata": {},
     "output_type": "execute_result"
    }
   ],
   "source": [
    "len(data.ASIN.unique())"
   ]
  },
  {
   "cell_type": "code",
   "execution_count": null,
   "metadata": {
    "collapsed": true
   },
   "outputs": [],
   "source": []
  },
  {
   "cell_type": "code",
   "execution_count": 10,
   "metadata": {
    "scrolled": false
   },
   "outputs": [
    {
     "data": {
      "text/html": [
       "<div>\n",
       "<style>\n",
       "    .dataframe thead tr:only-child th {\n",
       "        text-align: right;\n",
       "    }\n",
       "\n",
       "    .dataframe thead th {\n",
       "        text-align: left;\n",
       "    }\n",
       "\n",
       "    .dataframe tbody tr th {\n",
       "        vertical-align: top;\n",
       "    }\n",
       "</style>\n",
       "<table border=\"1\" class=\"dataframe\">\n",
       "  <thead>\n",
       "    <tr style=\"text-align: right;\">\n",
       "      <th></th>\n",
       "      <th>0</th>\n",
       "    </tr>\n",
       "  </thead>\n",
       "  <tbody>\n",
       "    <tr>\n",
       "      <th>0</th>\n",
       "      <td>Headphones</td>\n",
       "    </tr>\n",
       "    <tr>\n",
       "      <th>1</th>\n",
       "      <td>Cables</td>\n",
       "    </tr>\n",
       "    <tr>\n",
       "      <th>2</th>\n",
       "      <td>Security &amp; Surveillance</td>\n",
       "    </tr>\n",
       "    <tr>\n",
       "      <th>3</th>\n",
       "      <td>Streaming Media</td>\n",
       "    </tr>\n",
       "    <tr>\n",
       "      <th>4</th>\n",
       "      <td>Television Accessories</td>\n",
       "    </tr>\n",
       "  </tbody>\n",
       "</table>\n",
       "</div>"
      ],
      "text/plain": [
       "                         0\n",
       "0               Headphones\n",
       "1                   Cables\n",
       "2  Security & Surveillance\n",
       "3          Streaming Media\n",
       "4   Television Accessories"
      ]
     },
     "execution_count": 10,
     "metadata": {},
     "output_type": "execute_result"
    }
   ],
   "source": [
    "categories.head()"
   ]
  },
  {
   "cell_type": "code",
   "execution_count": 12,
   "metadata": {
    "collapsed": true
   },
   "outputs": [],
   "source": [
    "def get_images_from_url(url,label, image_number):\n",
    "    \"\"\"\n",
    "    Helper function to save .jpg images into the specified sub directory(labeling purposes)\n",
    "\n",
    "    Input....\n",
    "    url = URL where the image is taken from\n",
    "    label = The specified category taken from category name in pandas data frame\n",
    "    image_number = Unique number for image\n",
    "    \"\"\"\n",
    "    image_url = str(url)\n",
    "    img_data = requests.get(image_url).content\n",
    "    with open(os.path.join('data/Training_Data/' + label, label + image_number + '.jpg'), 'wb') as handler:\n",
    "        handler.write(img_data)"
   ]
  },
  {
   "cell_type": "markdown",
   "metadata": {},
   "source": [
    "## Creating Training sub directories for labeling purposes (Run only once to create)"
   ]
  },
  {
   "cell_type": "code",
   "execution_count": 13,
   "metadata": {
    "collapsed": true,
    "scrolled": true
   },
   "outputs": [],
   "source": [
    "for element in categories[0]:\n",
    "    pathlib.Path('data/Training_Data/' + element).mkdir(parents=True, exist_ok=True)"
   ]
  },
  {
   "cell_type": "markdown",
   "metadata": {},
   "source": [
    "## Creating Validation set sub directories(Run only once to create)"
   ]
  },
  {
   "cell_type": "code",
   "execution_count": 14,
   "metadata": {
    "collapsed": true
   },
   "outputs": [],
   "source": [
    "for element in categories[0]:\n",
    "    pathlib.Path('data/Validation_Data/' + element).mkdir(parents=True, exist_ok=True)"
   ]
  },
  {
   "cell_type": "markdown",
   "metadata": {},
   "source": [
    "## Populating subdirectories with images based on category label and ImageURL (Run only once to populate)"
   ]
  },
  {
   "cell_type": "code",
   "execution_count": 15,
   "metadata": {
    "scrolled": true
   },
   "outputs": [
    {
     "ename": "SyntaxError",
     "evalue": "EOL while scanning string literal (<ipython-input-15-5a72af2f48f9>, line 2)",
     "output_type": "error",
     "traceback": [
      "\u001b[0;36m  File \u001b[0;32m\"<ipython-input-15-5a72af2f48f9>\"\u001b[0;36m, line \u001b[0;32m2\u001b[0m\n\u001b[0;31m    print('Currently populating {} sub directory'.format(element)')\u001b[0m\n\u001b[0m                                                                   ^\u001b[0m\n\u001b[0;31mSyntaxError\u001b[0m\u001b[0;31m:\u001b[0m EOL while scanning string literal\n"
     ]
    }
   ],
   "source": [
    "for num,element in enumerate(data.CategoryName):\n",
    "    print('Currently populating {} sub directory'.format(element))\n",
    "    url = data['ImageUrl'][num]\n",
    "    get_images_from_url(url, element, str(num))"
   ]
  },
  {
   "cell_type": "code",
   "execution_count": null,
   "metadata": {
    "collapsed": true
   },
   "outputs": [],
   "source": []
  },
  {
   "cell_type": "markdown",
   "metadata": {},
   "source": [
    "## Populating Validation data directories with about 20% of the Training data(Run only once to create)"
   ]
  },
  {
   "cell_type": "code",
   "execution_count": 28,
   "metadata": {},
   "outputs": [
    {
     "name": "stdout",
     "output_type": "stream",
     "text": [
      "Currently moving Headphones images to Validation\n",
      "Currently moving Cables images to Validation\n",
      "Currently moving Security & Surveillance images to Validation\n",
      "Currently moving Streaming Media images to Validation\n",
      "Currently moving Television Accessories images to Validation\n",
      "Currently moving Monitor Risers images to Validation\n",
      "Currently moving Gaming Accessories images to Validation\n",
      "Currently moving Video Games images to Validation\n",
      "Currently moving Video Cameras images to Validation\n",
      "Currently moving 3D Printers & Supplies images to Validation\n",
      "Currently moving Drones images to Validation\n",
      "Currently moving Mice images to Validation\n",
      "Currently moving Computer Accessories images to Validation\n",
      "Currently moving Keyboards images to Validation\n",
      "Currently moving Monitor Mounts images to Validation\n",
      "Currently moving Monitors images to Validation\n",
      "Currently moving Office Electronics images to Validation\n",
      "Currently moving Camera Accessories images to Validation\n",
      "Currently moving Range Extenders images to Validation\n",
      "Currently moving Ink & Toner images to Validation\n",
      "Currently moving Car & Vehicle Electronics images to Validation\n",
      "Currently moving Video Projectors images to Validation\n",
      "Currently moving Tablet Accessories images to Validation\n",
      "Currently moving Car Subwoofers & Amplifiers images to Validation\n",
      "Currently moving Tablets images to Validation\n",
      "Currently moving Laptop Accessories images to Validation\n",
      "Currently moving Tripods & Monopods images to Validation\n",
      "Currently moving Televisions images to Validation\n",
      "Currently moving Batteries images to Validation\n",
      "Currently moving Desktops images to Validation\n",
      "Currently moving Laptops images to Validation\n",
      "Currently moving Home Audio images to Validation\n",
      "Currently moving GPS & Navigation images to Validation\n",
      "Currently moving Radar Detectors images to Validation\n",
      "Currently moving Mobile Phone Accessories images to Validation\n",
      "Currently moving Headsets images to Validation\n",
      "Currently moving Binoculars & Scopes images to Validation\n",
      "Currently moving Modems images to Validation\n",
      "Currently moving Cases & Screen Protectors images to Validation\n",
      "Currently moving TV Mounts & Stands images to Validation\n",
      "Currently moving eBook Readers & Accessories images to Validation\n",
      "Currently moving Computer Data Storage images to Validation\n",
      "Currently moving Portable Audio & Speakers images to Validation\n",
      "Currently moving Power Management images to Validation\n",
      "Currently moving Computer Components images to Validation\n",
      "Currently moving Video Cards images to Validation\n",
      "Currently moving Printers & Scanners images to Validation\n",
      "Currently moving Memory Cards & Flash Drives images to Validation\n",
      "Currently moving Unlocked Cell Phones images to Validation\n",
      "Currently moving Wearable Technology images to Validation\n",
      "Currently moving Motherboards images to Validation\n",
      "Currently moving Telescopes images to Validation\n",
      "Currently moving Routers & Networking images to Validation\n",
      "Currently moving Car Dash Cams images to Validation\n",
      "Currently moving Microphones and Accessories images to Validation\n",
      "Currently moving Two Way Radios images to Validation\n",
      "Currently moving Blu-ray and DVD Players images to Validation\n",
      "Currently moving Standing Desks images to Validation\n",
      "Currently moving Cameras images to Validation\n",
      "Currently moving Switches images to Validation\n",
      "Currently moving Calculators images to Validation\n",
      "Currently moving Camera Lenses images to Validation\n",
      "Currently moving Game Consoles images to Validation\n"
     ]
    }
   ],
   "source": [
    "for element in categories[0]:\n",
    "    print('Currently moving {} images to Validation'.format(element))\n",
    "    num = 0\n",
    "    source = 'data/Training_Data/' + element + '/'\n",
    "    dest1 = 'data/Validation_Data/' + element + '/'\n",
    "    files = os.listdir(source)\n",
    "    for f in files:\n",
    "        if num == 20:\n",
    "            break\n",
    "        if not f.startswith('.'):\n",
    "            shutil.move(source + f, dest1)\n",
    "            num += 1"
   ]
  },
  {
   "cell_type": "code",
   "execution_count": 27,
   "metadata": {},
   "outputs": [
    {
     "data": {
      "text/plain": [
       "['Headphones2624.jpg',\n",
       " 'Headphones3923.jpg',\n",
       " 'Headphones5003.jpg',\n",
       " 'Headphones1674.jpg',\n",
       " 'Headphones2631.jpg',\n",
       " 'Headphones928.jpg',\n",
       " 'Headphones1919.jpg',\n",
       " 'Headphones3302.jpg',\n",
       " 'Headphones5968.jpg',\n",
       " 'Headphones3896.jpg',\n",
       " 'Headphones929.jpg',\n",
       " 'Headphones4041.jpg',\n",
       " 'Headphones2632.jpg',\n",
       " 'Headphones2636.jpg',\n",
       " 'Headphones4051.jpg',\n",
       " 'Headphones2597.jpg',\n",
       " '.DS_Store',\n",
       " 'Headphones4482.jpg',\n",
       " 'Headphones4483.jpg',\n",
       " 'Headphones2623.jpg',\n",
       " 'Headphones4091.jpg']"
      ]
     },
     "execution_count": 27,
     "metadata": {},
     "output_type": "execute_result"
    }
   ],
   "source": [
    "os.listdir('Validation_Data/Headphones/')"
   ]
  },
  {
   "cell_type": "code",
   "execution_count": null,
   "metadata": {
    "collapsed": true
   },
   "outputs": [],
   "source": []
  }
 ],
 "metadata": {
  "kernelspec": {
   "display_name": "Python 3",
   "language": "python",
   "name": "python3"
  },
  "language_info": {
   "codemirror_mode": {
    "name": "ipython",
    "version": 3
   },
   "file_extension": ".py",
   "mimetype": "text/x-python",
   "name": "python",
   "nbconvert_exporter": "python",
   "pygments_lexer": "ipython3",
   "version": "3.6.1"
  }
 },
 "nbformat": 4,
 "nbformat_minor": 2
}
